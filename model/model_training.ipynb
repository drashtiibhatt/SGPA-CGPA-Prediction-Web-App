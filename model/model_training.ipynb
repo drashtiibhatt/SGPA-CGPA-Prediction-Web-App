{
 "cells": [
  {
   "cell_type": "code",
   "execution_count": 2,
   "id": "3c2514b7",
   "metadata": {},
   "outputs": [
    {
     "data": {
      "text/html": [
       "<div>\n",
       "<style scoped>\n",
       "    .dataframe tbody tr th:only-of-type {\n",
       "        vertical-align: middle;\n",
       "    }\n",
       "\n",
       "    .dataframe tbody tr th {\n",
       "        vertical-align: top;\n",
       "    }\n",
       "\n",
       "    .dataframe thead th {\n",
       "        text-align: right;\n",
       "    }\n",
       "</style>\n",
       "<table border=\"1\" class=\"dataframe\">\n",
       "  <thead>\n",
       "    <tr style=\"text-align: right;\">\n",
       "      <th></th>\n",
       "      <th>SGPA1</th>\n",
       "      <th>CGPA1</th>\n",
       "      <th>SGPA2</th>\n",
       "      <th>CGPA2</th>\n",
       "      <th>SGPA3</th>\n",
       "      <th>CGPA3</th>\n",
       "      <th>SGPA4</th>\n",
       "      <th>CGPA4</th>\n",
       "    </tr>\n",
       "  </thead>\n",
       "  <tbody>\n",
       "    <tr>\n",
       "      <th>0</th>\n",
       "      <td>9.50</td>\n",
       "      <td>9.50</td>\n",
       "      <td>8.63</td>\n",
       "      <td>9.02</td>\n",
       "      <td>8.87</td>\n",
       "      <td>8.97</td>\n",
       "      <td>8.24</td>\n",
       "      <td>8.77</td>\n",
       "    </tr>\n",
       "    <tr>\n",
       "      <th>1</th>\n",
       "      <td>9.20</td>\n",
       "      <td>9.20</td>\n",
       "      <td>9.29</td>\n",
       "      <td>9.25</td>\n",
       "      <td>9.35</td>\n",
       "      <td>9.28</td>\n",
       "      <td>8.92</td>\n",
       "      <td>9.18</td>\n",
       "    </tr>\n",
       "    <tr>\n",
       "      <th>2</th>\n",
       "      <td>8.65</td>\n",
       "      <td>8.65</td>\n",
       "      <td>7.79</td>\n",
       "      <td>8.18</td>\n",
       "      <td>8.39</td>\n",
       "      <td>8.25</td>\n",
       "      <td>8.28</td>\n",
       "      <td>8.26</td>\n",
       "    </tr>\n",
       "    <tr>\n",
       "      <th>3</th>\n",
       "      <td>9.75</td>\n",
       "      <td>9.75</td>\n",
       "      <td>9.83</td>\n",
       "      <td>9.80</td>\n",
       "      <td>9.35</td>\n",
       "      <td>9.64</td>\n",
       "      <td>9.68</td>\n",
       "      <td>9.65</td>\n",
       "    </tr>\n",
       "    <tr>\n",
       "      <th>4</th>\n",
       "      <td>9.85</td>\n",
       "      <td>9.85</td>\n",
       "      <td>9.71</td>\n",
       "      <td>9.77</td>\n",
       "      <td>10.00</td>\n",
       "      <td>9.85</td>\n",
       "      <td>9.52</td>\n",
       "      <td>9.76</td>\n",
       "    </tr>\n",
       "  </tbody>\n",
       "</table>\n",
       "</div>"
      ],
      "text/plain": [
       "   SGPA1  CGPA1  SGPA2  CGPA2  SGPA3  CGPA3  SGPA4  CGPA4\n",
       "0   9.50   9.50   8.63   9.02   8.87   8.97   8.24   8.77\n",
       "1   9.20   9.20   9.29   9.25   9.35   9.28   8.92   9.18\n",
       "2   8.65   8.65   7.79   8.18   8.39   8.25   8.28   8.26\n",
       "3   9.75   9.75   9.83   9.80   9.35   9.64   9.68   9.65\n",
       "4   9.85   9.85   9.71   9.77  10.00   9.85   9.52   9.76"
      ]
     },
     "execution_count": 2,
     "metadata": {},
     "output_type": "execute_result"
    }
   ],
   "source": [
    "import pandas as pd\n",
    "import numpy as np\n",
    "import sklearn\n",
    "import seaborn as sns\n",
    "import matplotlib\n",
    "import matplotlib.pyplot as plt\n",
    "from sklearn.model_selection import train_test_split\n",
    "from sklearn.linear_model import LinearRegression\n",
    "from sklearn.metrics import mean_squared_error\n",
    "from sklearn.metrics import mean_absolute_error, mean_squared_error, r2_score\n",
    "import joblib\n",
    "%matplotlib inline\n",
    "# Load the data\n",
    "data = pd.read_csv(r'C:/Users/17708/Desktop/5SGP/New Result2.csv')\n",
    "\n",
    "# Inspect the data\n",
    "data.head()"
   ]
  },
  {
   "cell_type": "code",
   "execution_count": 3,
   "id": "4e729ac2",
   "metadata": {},
   "outputs": [
    {
     "data": {
      "text/html": [
       "<div>\n",
       "<style scoped>\n",
       "    .dataframe tbody tr th:only-of-type {\n",
       "        vertical-align: middle;\n",
       "    }\n",
       "\n",
       "    .dataframe tbody tr th {\n",
       "        vertical-align: top;\n",
       "    }\n",
       "\n",
       "    .dataframe thead th {\n",
       "        text-align: right;\n",
       "    }\n",
       "</style>\n",
       "<table border=\"1\" class=\"dataframe\">\n",
       "  <thead>\n",
       "    <tr style=\"text-align: right;\">\n",
       "      <th></th>\n",
       "      <th>SGPA1</th>\n",
       "      <th>CGPA1</th>\n",
       "      <th>SGPA2</th>\n",
       "      <th>CGPA2</th>\n",
       "      <th>SGPA3</th>\n",
       "      <th>CGPA3</th>\n",
       "      <th>SGPA4</th>\n",
       "      <th>CGPA4</th>\n",
       "    </tr>\n",
       "  </thead>\n",
       "  <tbody>\n",
       "    <tr>\n",
       "      <th>131</th>\n",
       "      <td>9.60</td>\n",
       "      <td>9.60</td>\n",
       "      <td>9.79</td>\n",
       "      <td>9.70</td>\n",
       "      <td>9.22</td>\n",
       "      <td>9.54</td>\n",
       "      <td>9.04</td>\n",
       "      <td>9.40</td>\n",
       "    </tr>\n",
       "    <tr>\n",
       "      <th>132</th>\n",
       "      <td>9.80</td>\n",
       "      <td>9.80</td>\n",
       "      <td>10.00</td>\n",
       "      <td>9.91</td>\n",
       "      <td>9.57</td>\n",
       "      <td>9.79</td>\n",
       "      <td>9.36</td>\n",
       "      <td>9.67</td>\n",
       "    </tr>\n",
       "    <tr>\n",
       "      <th>133</th>\n",
       "      <td>7.70</td>\n",
       "      <td>7.70</td>\n",
       "      <td>7.96</td>\n",
       "      <td>7.84</td>\n",
       "      <td>7.52</td>\n",
       "      <td>7.73</td>\n",
       "      <td>7.80</td>\n",
       "      <td>7.75</td>\n",
       "    </tr>\n",
       "    <tr>\n",
       "      <th>134</th>\n",
       "      <td>9.25</td>\n",
       "      <td>9.25</td>\n",
       "      <td>9.25</td>\n",
       "      <td>9.25</td>\n",
       "      <td>9.52</td>\n",
       "      <td>9.34</td>\n",
       "      <td>8.72</td>\n",
       "      <td>9.17</td>\n",
       "    </tr>\n",
       "    <tr>\n",
       "      <th>135</th>\n",
       "      <td>7.90</td>\n",
       "      <td>7.90</td>\n",
       "      <td>6.79</td>\n",
       "      <td>7.30</td>\n",
       "      <td>7.65</td>\n",
       "      <td>7.42</td>\n",
       "      <td>6.72</td>\n",
       "      <td>7.23</td>\n",
       "    </tr>\n",
       "  </tbody>\n",
       "</table>\n",
       "</div>"
      ],
      "text/plain": [
       "     SGPA1  CGPA1  SGPA2  CGPA2  SGPA3  CGPA3  SGPA4  CGPA4\n",
       "131   9.60   9.60   9.79   9.70   9.22   9.54   9.04   9.40\n",
       "132   9.80   9.80  10.00   9.91   9.57   9.79   9.36   9.67\n",
       "133   7.70   7.70   7.96   7.84   7.52   7.73   7.80   7.75\n",
       "134   9.25   9.25   9.25   9.25   9.52   9.34   8.72   9.17\n",
       "135   7.90   7.90   6.79   7.30   7.65   7.42   6.72   7.23"
      ]
     },
     "execution_count": 3,
     "metadata": {},
     "output_type": "execute_result"
    }
   ],
   "source": [
    "data.tail()"
   ]
  },
  {
   "cell_type": "code",
   "execution_count": 4,
   "id": "9c8130d2",
   "metadata": {},
   "outputs": [
    {
     "data": {
      "text/plain": [
       "(136, 8)"
      ]
     },
     "execution_count": 4,
     "metadata": {},
     "output_type": "execute_result"
    }
   ],
   "source": [
    "data.shape"
   ]
  },
  {
   "cell_type": "code",
   "execution_count": 5,
   "id": "8c26486d",
   "metadata": {},
   "outputs": [
    {
     "data": {
      "text/plain": [
       "1088"
      ]
     },
     "execution_count": 5,
     "metadata": {},
     "output_type": "execute_result"
    }
   ],
   "source": [
    "data.size"
   ]
  },
  {
   "cell_type": "code",
   "execution_count": 6,
   "id": "99fd22ae",
   "metadata": {},
   "outputs": [
    {
     "data": {
      "text/plain": [
       "SGPA1    float64\n",
       "CGPA1    float64\n",
       "SGPA2    float64\n",
       "CGPA2    float64\n",
       "SGPA3    float64\n",
       "CGPA3    float64\n",
       "SGPA4    float64\n",
       "CGPA4    float64\n",
       "dtype: object"
      ]
     },
     "execution_count": 6,
     "metadata": {},
     "output_type": "execute_result"
    }
   ],
   "source": [
    "data.dtypes"
   ]
  },
  {
   "cell_type": "code",
   "execution_count": 7,
   "id": "97f38268",
   "metadata": {},
   "outputs": [
    {
     "data": {
      "text/plain": [
       "Index(['SGPA1', 'CGPA1', 'SGPA2', 'CGPA2', 'SGPA3', 'CGPA3', 'SGPA4', 'CGPA4'], dtype='object')"
      ]
     },
     "execution_count": 7,
     "metadata": {},
     "output_type": "execute_result"
    }
   ],
   "source": [
    "data.columns"
   ]
  },
  {
   "cell_type": "code",
   "execution_count": 8,
   "id": "adf93dcf",
   "metadata": {},
   "outputs": [
    {
     "name": "stdout",
     "output_type": "stream",
     "text": [
      "<class 'pandas.core.frame.DataFrame'>\n",
      "RangeIndex: 136 entries, 0 to 135\n",
      "Data columns (total 8 columns):\n",
      " #   Column  Non-Null Count  Dtype  \n",
      "---  ------  --------------  -----  \n",
      " 0   SGPA1   136 non-null    float64\n",
      " 1   CGPA1   136 non-null    float64\n",
      " 2   SGPA2   136 non-null    float64\n",
      " 3   CGPA2   136 non-null    float64\n",
      " 4   SGPA3   135 non-null    float64\n",
      " 5   CGPA3   135 non-null    float64\n",
      " 6   SGPA4   136 non-null    float64\n",
      " 7   CGPA4   136 non-null    float64\n",
      "dtypes: float64(8)\n",
      "memory usage: 8.6 KB\n"
     ]
    }
   ],
   "source": [
    "data.info()"
   ]
  },
  {
   "cell_type": "code",
   "execution_count": 9,
   "id": "0be9873d",
   "metadata": {},
   "outputs": [
    {
     "data": {
      "text/plain": [
       "SGPA1    0\n",
       "CGPA1    0\n",
       "SGPA2    0\n",
       "CGPA2    0\n",
       "SGPA3    1\n",
       "CGPA3    1\n",
       "SGPA4    0\n",
       "CGPA4    0\n",
       "dtype: int64"
      ]
     },
     "execution_count": 9,
     "metadata": {},
     "output_type": "execute_result"
    }
   ],
   "source": [
    "data.isnull().sum()"
   ]
  },
  {
   "cell_type": "code",
   "execution_count": 10,
   "id": "95d0392c",
   "metadata": {},
   "outputs": [],
   "source": [
    "data = data.fillna(data.mean())"
   ]
  },
  {
   "cell_type": "code",
   "execution_count": 11,
   "id": "400da7f0",
   "metadata": {},
   "outputs": [
    {
     "data": {
      "text/plain": [
       "SGPA1    0\n",
       "CGPA1    0\n",
       "SGPA2    0\n",
       "CGPA2    0\n",
       "SGPA3    0\n",
       "CGPA3    0\n",
       "SGPA4    0\n",
       "CGPA4    0\n",
       "dtype: int64"
      ]
     },
     "execution_count": 11,
     "metadata": {},
     "output_type": "execute_result"
    }
   ],
   "source": [
    "data.isnull().sum()"
   ]
  },
  {
   "cell_type": "code",
   "execution_count": 12,
   "id": "12090a4f",
   "metadata": {},
   "outputs": [],
   "source": [
    "numerical_features = [\"SGPA1\", \"SGPA2\", \"SGPA3\"]\n",
    "target = \"SGPA4\""
   ]
  },
  {
   "cell_type": "code",
   "execution_count": 13,
   "id": "7d6c16ee",
   "metadata": {},
   "outputs": [
    {
     "data": {
      "text/plain": [
       "SGPA1   -3.713583\n",
       "CGPA1   -3.882117\n",
       "SGPA2   -3.573464\n",
       "CGPA2   -4.000144\n",
       "SGPA3   -3.903019\n",
       "CGPA3   -4.216565\n",
       "SGPA4   -4.162953\n",
       "CGPA4   -4.229119\n",
       "dtype: float64"
      ]
     },
     "execution_count": 13,
     "metadata": {},
     "output_type": "execute_result"
    }
   ],
   "source": [
    "data.skew(numeric_only= True)"
   ]
  },
  {
   "cell_type": "code",
   "execution_count": 14,
   "id": "dac64378",
   "metadata": {},
   "outputs": [
    {
     "data": {
      "text/html": [
       "<div>\n",
       "<style scoped>\n",
       "    .dataframe tbody tr th:only-of-type {\n",
       "        vertical-align: middle;\n",
       "    }\n",
       "\n",
       "    .dataframe tbody tr th {\n",
       "        vertical-align: top;\n",
       "    }\n",
       "\n",
       "    .dataframe thead th {\n",
       "        text-align: right;\n",
       "    }\n",
       "</style>\n",
       "<table border=\"1\" class=\"dataframe\">\n",
       "  <thead>\n",
       "    <tr style=\"text-align: right;\">\n",
       "      <th></th>\n",
       "      <th>SGPA1</th>\n",
       "      <th>CGPA1</th>\n",
       "      <th>SGPA2</th>\n",
       "      <th>CGPA2</th>\n",
       "      <th>SGPA3</th>\n",
       "      <th>CGPA3</th>\n",
       "      <th>SGPA4</th>\n",
       "      <th>CGPA4</th>\n",
       "    </tr>\n",
       "  </thead>\n",
       "  <tbody>\n",
       "    <tr>\n",
       "      <th>SGPA1</th>\n",
       "      <td>1.000000</td>\n",
       "      <td>0.996293</td>\n",
       "      <td>0.941206</td>\n",
       "      <td>0.981904</td>\n",
       "      <td>0.853033</td>\n",
       "      <td>0.941637</td>\n",
       "      <td>0.834929</td>\n",
       "      <td>0.950778</td>\n",
       "    </tr>\n",
       "    <tr>\n",
       "      <th>CGPA1</th>\n",
       "      <td>0.996293</td>\n",
       "      <td>1.000000</td>\n",
       "      <td>0.936942</td>\n",
       "      <td>0.982256</td>\n",
       "      <td>0.855623</td>\n",
       "      <td>0.942286</td>\n",
       "      <td>0.821433</td>\n",
       "      <td>0.948021</td>\n",
       "    </tr>\n",
       "    <tr>\n",
       "      <th>SGPA2</th>\n",
       "      <td>0.941206</td>\n",
       "      <td>0.936942</td>\n",
       "      <td>1.000000</td>\n",
       "      <td>0.983348</td>\n",
       "      <td>0.884739</td>\n",
       "      <td>0.948266</td>\n",
       "      <td>0.895749</td>\n",
       "      <td>0.977190</td>\n",
       "    </tr>\n",
       "    <tr>\n",
       "      <th>CGPA2</th>\n",
       "      <td>0.981904</td>\n",
       "      <td>0.982256</td>\n",
       "      <td>0.983348</td>\n",
       "      <td>1.000000</td>\n",
       "      <td>0.892586</td>\n",
       "      <td>0.968270</td>\n",
       "      <td>0.869234</td>\n",
       "      <td>0.978644</td>\n",
       "    </tr>\n",
       "    <tr>\n",
       "      <th>SGPA3</th>\n",
       "      <td>0.853033</td>\n",
       "      <td>0.855623</td>\n",
       "      <td>0.884739</td>\n",
       "      <td>0.892586</td>\n",
       "      <td>1.000000</td>\n",
       "      <td>0.961622</td>\n",
       "      <td>0.871504</td>\n",
       "      <td>0.930888</td>\n",
       "    </tr>\n",
       "    <tr>\n",
       "      <th>CGPA3</th>\n",
       "      <td>0.941637</td>\n",
       "      <td>0.942286</td>\n",
       "      <td>0.948266</td>\n",
       "      <td>0.968270</td>\n",
       "      <td>0.961622</td>\n",
       "      <td>1.000000</td>\n",
       "      <td>0.877014</td>\n",
       "      <td>0.968298</td>\n",
       "    </tr>\n",
       "    <tr>\n",
       "      <th>SGPA4</th>\n",
       "      <td>0.834929</td>\n",
       "      <td>0.821433</td>\n",
       "      <td>0.895749</td>\n",
       "      <td>0.869234</td>\n",
       "      <td>0.871504</td>\n",
       "      <td>0.877014</td>\n",
       "      <td>1.000000</td>\n",
       "      <td>0.945305</td>\n",
       "    </tr>\n",
       "    <tr>\n",
       "      <th>CGPA4</th>\n",
       "      <td>0.950778</td>\n",
       "      <td>0.948021</td>\n",
       "      <td>0.977190</td>\n",
       "      <td>0.978644</td>\n",
       "      <td>0.930888</td>\n",
       "      <td>0.968298</td>\n",
       "      <td>0.945305</td>\n",
       "      <td>1.000000</td>\n",
       "    </tr>\n",
       "  </tbody>\n",
       "</table>\n",
       "</div>"
      ],
      "text/plain": [
       "          SGPA1     CGPA1     SGPA2     CGPA2     SGPA3     CGPA3     SGPA4  \\\n",
       "SGPA1  1.000000  0.996293  0.941206  0.981904  0.853033  0.941637  0.834929   \n",
       "CGPA1  0.996293  1.000000  0.936942  0.982256  0.855623  0.942286  0.821433   \n",
       "SGPA2  0.941206  0.936942  1.000000  0.983348  0.884739  0.948266  0.895749   \n",
       "CGPA2  0.981904  0.982256  0.983348  1.000000  0.892586  0.968270  0.869234   \n",
       "SGPA3  0.853033  0.855623  0.884739  0.892586  1.000000  0.961622  0.871504   \n",
       "CGPA3  0.941637  0.942286  0.948266  0.968270  0.961622  1.000000  0.877014   \n",
       "SGPA4  0.834929  0.821433  0.895749  0.869234  0.871504  0.877014  1.000000   \n",
       "CGPA4  0.950778  0.948021  0.977190  0.978644  0.930888  0.968298  0.945305   \n",
       "\n",
       "          CGPA4  \n",
       "SGPA1  0.950778  \n",
       "CGPA1  0.948021  \n",
       "SGPA2  0.977190  \n",
       "CGPA2  0.978644  \n",
       "SGPA3  0.930888  \n",
       "CGPA3  0.968298  \n",
       "SGPA4  0.945305  \n",
       "CGPA4  1.000000  "
      ]
     },
     "execution_count": 14,
     "metadata": {},
     "output_type": "execute_result"
    }
   ],
   "source": [
    "data.corr(numeric_only= True)"
   ]
  },
  {
   "cell_type": "code",
   "execution_count": 15,
   "id": "357edc99",
   "metadata": {},
   "outputs": [
    {
     "data": {
      "text/html": [
       "<div>\n",
       "<style scoped>\n",
       "    .dataframe tbody tr th:only-of-type {\n",
       "        vertical-align: middle;\n",
       "    }\n",
       "\n",
       "    .dataframe tbody tr th {\n",
       "        vertical-align: top;\n",
       "    }\n",
       "\n",
       "    .dataframe thead th {\n",
       "        text-align: right;\n",
       "    }\n",
       "</style>\n",
       "<table border=\"1\" class=\"dataframe\">\n",
       "  <thead>\n",
       "    <tr style=\"text-align: right;\">\n",
       "      <th></th>\n",
       "      <th>SGPA1</th>\n",
       "      <th>SGPA2</th>\n",
       "      <th>SGPA3</th>\n",
       "    </tr>\n",
       "  </thead>\n",
       "  <tbody>\n",
       "    <tr>\n",
       "      <th>count</th>\n",
       "      <td>136.000000</td>\n",
       "      <td>136.000000</td>\n",
       "      <td>136.000000</td>\n",
       "    </tr>\n",
       "    <tr>\n",
       "      <th>mean</th>\n",
       "      <td>8.684559</td>\n",
       "      <td>8.676103</td>\n",
       "      <td>8.563407</td>\n",
       "    </tr>\n",
       "    <tr>\n",
       "      <th>std</th>\n",
       "      <td>1.387838</td>\n",
       "      <td>1.448923</td>\n",
       "      <td>1.373065</td>\n",
       "    </tr>\n",
       "    <tr>\n",
       "      <th>min</th>\n",
       "      <td>0.000000</td>\n",
       "      <td>0.000000</td>\n",
       "      <td>0.000000</td>\n",
       "    </tr>\n",
       "    <tr>\n",
       "      <th>25%</th>\n",
       "      <td>8.337500</td>\n",
       "      <td>8.357500</td>\n",
       "      <td>8.280000</td>\n",
       "    </tr>\n",
       "    <tr>\n",
       "      <th>50%</th>\n",
       "      <td>9.025000</td>\n",
       "      <td>9.060000</td>\n",
       "      <td>8.830000</td>\n",
       "    </tr>\n",
       "    <tr>\n",
       "      <th>75%</th>\n",
       "      <td>9.500000</td>\n",
       "      <td>9.510000</td>\n",
       "      <td>9.300000</td>\n",
       "    </tr>\n",
       "    <tr>\n",
       "      <th>max</th>\n",
       "      <td>9.900000</td>\n",
       "      <td>10.000000</td>\n",
       "      <td>10.000000</td>\n",
       "    </tr>\n",
       "  </tbody>\n",
       "</table>\n",
       "</div>"
      ],
      "text/plain": [
       "            SGPA1       SGPA2       SGPA3\n",
       "count  136.000000  136.000000  136.000000\n",
       "mean     8.684559    8.676103    8.563407\n",
       "std      1.387838    1.448923    1.373065\n",
       "min      0.000000    0.000000    0.000000\n",
       "25%      8.337500    8.357500    8.280000\n",
       "50%      9.025000    9.060000    8.830000\n",
       "75%      9.500000    9.510000    9.300000\n",
       "max      9.900000   10.000000   10.000000"
      ]
     },
     "execution_count": 15,
     "metadata": {},
     "output_type": "execute_result"
    }
   ],
   "source": [
    "data[numerical_features].describe()"
   ]
  },
  {
   "cell_type": "code",
   "execution_count": 16,
   "id": "3dd275af",
   "metadata": {},
   "outputs": [
    {
     "data": {
      "text/plain": [
       "array([[<Axes: title={'center': 'SGPA1'}>,\n",
       "        <Axes: title={'center': 'SGPA2'}>],\n",
       "       [<Axes: title={'center': 'SGPA3'}>, <Axes: >]], dtype=object)"
      ]
     },
     "execution_count": 16,
     "metadata": {},
     "output_type": "execute_result"
    },
    {
     "data": {
      "image/png": "[encoded data removed]",
      "text/plain": [
       "<Figure size 1000x700 with 4 Axes>"
      ]
     },
     "metadata": {},
     "output_type": "display_data"
    }
   ],
   "source": [
    "data[numerical_features].hist(bins=30, figsize=(10, 7))"
   ]
  },
  {
   "cell_type": "code",
   "execution_count": 17,
   "id": "3c60f589",
   "metadata": {},
   "outputs": [
    {
     "name": "stdout",
     "output_type": "stream",
     "text": [
      "Mean Absolute Error (MAE): 0.3946467507332857\n",
      "Mean Squared Error (MSE): 0.22288816240006917\n",
      "Root Mean Squared Error (RMSE): 0.4721103286309983\n",
      "R-squared (R2): 0.9276346245468459\n"
     ]
    }
   ],
   "source": [
    "X = data[['SGPA1', 'SGPA2', 'SGPA3']] \n",
    "y = data['SGPA4']\n",
    "\n",
    "# Split the data into training and testing sets\n",
    "X_train, X_test, y_train, y_test = train_test_split(X, y, test_size=0.2, random_state=42)\n",
    "\n",
    "# Train the model\n",
    "model = LinearRegression()\n",
    "model.fit(X_train, y_train)\n",
    "\n",
    "# Make predictions\n",
    "y_pred = model.predict(X_test)\n",
    "\n",
    "# Evaluate the model\n",
    "mae = mean_absolute_error(y_test, y_pred)\n",
    "mse = mean_squared_error(y_test, y_pred)\n",
    "rmse = np.sqrt(mse)\n",
    "r2 = r2_score(y_test, y_pred)\n",
    "\n",
    "print(f\"Mean Absolute Error (MAE): {mae}\")\n",
    "print(f\"Mean Squared Error (MSE): {mse}\")\n",
    "print(f\"Root Mean Squared Error (RMSE): {rmse}\")\n",
    "print(f\"R-squared (R2): {r2}\")"
   ]
  },
  {
   "cell_type": "code",
   "execution_count": 21,
   "id": "def8793b",
   "metadata": {},
   "outputs": [],
   "source": [
    "import pickle\n",
    "with open('sgpa_cgpa_model.pkl', 'wb') as file:\n",
    "    pickle.dump(model, file)"
   ]
  },
  {
   "cell_type": "code",
   "execution_count": null,
   "id": "aad1c5ad",
   "metadata": {},
   "outputs": [],
   "source": []
  }
 ],
 "metadata": {
  "kernelspec": {
   "display_name": "Python 3 (ipykernel)",
   "language": "python",
   "name": "python3"
  },
  "language_info": {
   "codemirror_mode": {
    "name": "ipython",
    "version": 3
   },
   "file_extension": ".py",
   "mimetype": "text/x-python",
   "name": "python",
   "nbconvert_exporter": "python",
   "pygments_lexer": "ipython3",
   "version": "3.10.11"
  }
 },
 "nbformat": 4,
 "nbformat_minor": 5
}
